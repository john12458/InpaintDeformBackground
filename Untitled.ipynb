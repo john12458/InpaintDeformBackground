{
 "cells": [
  {
   "cell_type": "code",
   "execution_count": 65,
   "metadata": {},
   "outputs": [
    {
     "name": "stdout",
     "output_type": "stream",
     "text": [
      "{'note': 'Try to small gird varmap (8x8)', 'mask_type': 'tri', 'varmap_type': 'small_grid', 'varmap_threshold': -1.0, 'guassian_blur': True, 'guassian_ksize': 17, 'guassian_sigma': 0.0, 'epoch': 200, 'batch_size': 16, 'lr': 0.0002, 'backbone': 'convnext_base_in22k', 'D_iter': 5, 'G_iter': 1, 'type': 'wgangp', 'gp_lambda': 10, 'mask_weight': 1.0, 'in_out_area_split': False, 'in_area_weight': 0.5, 'out_area_weight': 0.5, 'data_dir': '/workspace/inpaint_mask/data/warpData/celeba/', 'log_dir': '/workspace/inpaint_mask/log/warp_mask/', 'wandb': False, 'image_size': (256, 256)}\n",
      "202599\n",
      "Check all data exist\n"
     ]
    },
    {
     "data": {
      "application/vnd.jupyter.widget-view+json": {
       "model_id": "92b9a4c5ff7d4f9f8f82f1ee46d9aa11",
       "version_major": 2,
       "version_minor": 0
      },
      "text/plain": [
       "  0%|          | 0/202599 [00:00<?, ?it/s]"
      ]
     },
     "metadata": {},
     "output_type": "display_data"
    },
    {
     "name": "stdout",
     "output_type": "stream",
     "text": [
      "Seed: 5\n",
      "Total train data: 182339\n",
      "Total valid data: 20260\n",
      "Log dir: /workspace/inpaint_mask/log/warp_mask/\n",
      "Guassian_Blur ksize:17, sigma:0.0\n",
      "Total train len: 182339\n",
      "Total valid len: 20260\n",
      "val_batch_num : 5/1266\n",
      "num data per valid: 80\n"
     ]
    }
   ],
   "source": [
    "#!/usr/bin/env python\n",
    "# coding: utf-8\n",
    "import os\n",
    "\"\"\" Setting \"\"\"\n",
    "os.environ[\"CUDA_VISIBLE_DEVICES\"] = \"3\"\n",
    "wandb_prefix_name = \"warp_mask\"\n",
    "know_args = ['--note',\"Try to small gird varmap (8x8)\",\n",
    "             \"--log_dir\",f\"/workspace/inpaint_mask/log/{wandb_prefix_name}/\",\n",
    "             \"--data_dir\",\"/workspace/inpaint_mask/data/warpData/celeba/\",\n",
    "             # \"--data_dir\", \"/workspace/inpaint_mask/data/warpData/CIHP/Training/\",\n",
    "             # \"--data_dir\", \"/workspace/inpaint_mask/data/warpData/Celeb-reID-light/train/\",\n",
    "             '--mask_type', \"tri\",\n",
    "             '--varmap_type', \"small_grid\",\n",
    "             '--varmap_threshold',\"-1\",\n",
    "             \n",
    "             \"--mask_weight\",\"1\",\n",
    "             \n",
    "             \"--batch_size\",\"16\",\n",
    "\n",
    "             '--guassian_ksize','17',\n",
    "             '--guassian_sigma','0.0',\n",
    "             '--guassian_blur',\n",
    "            #  \"--in_out_area_split\",\n",
    "             # \"--wandb\"\n",
    "            ]\n",
    "# image_size = (256,128)\n",
    "image_size = (256,256)\n",
    "# image_size = (512,512)\n",
    "seed = 5\n",
    "test_size = 0.1\n",
    "val_batch_num = 5\n",
    "device = \"cuda\"\n",
    "weight_cliping_limit = 0.01\n",
    "\n",
    "# assert args.D_iter > args.G_iter,print(\"WGAN Need D_iter > G_iter\") # wgan parameters\n",
    "\n",
    "\n",
    "import torch\n",
    "import numpy as np\n",
    "from tqdm.auto import tqdm\n",
    "from get_args import get_args\n",
    "from utils import (\n",
    "    seed_everything,\n",
    "    checkallData,\n",
    "    check_create_dir,\n",
    "    create_guassian_blur_f,\n",
    "    to_pillow_f,\n",
    ")\n",
    "from loss_utils import (\n",
    "    calculate_mask_loss_with_split,\n",
    "    calc_gradient_penalty\n",
    ")\n",
    "from warp_dataset import WarppedDataset\n",
    "from sklearn.model_selection import train_test_split\n",
    "import timm\n",
    "from models import Generator,Discriminator\n",
    "from natsort import natsorted\n",
    "import matplotlib.pyplot as plt\n",
    "\n",
    "seed_everything(seed)\n",
    "args = get_args(know_args)\n",
    "assert len(timm.list_models(args.backbone,pretrained=True)) !=0, print(f\"no such backbone {args.backbone} \")\n",
    "args.image_size = image_size\n",
    "print(vars(args))\n",
    "\n",
    "\n",
    "\"\"\" Train Val Split \"\"\"\n",
    "d_dir = f\"{args.data_dir}/{args.mask_type}/\"\n",
    "origin_dir = f\"{d_dir}/origin/\"\n",
    "image_names = natsorted(os.listdir(origin_dir))\n",
    "image_id_list = list(map(lambda s: s.split('.')[0], image_names))\n",
    "print(len(image_id_list))\n",
    "\n",
    "checkallData(d_dir,image_id_list)\n",
    "print(\"Seed:\",seed)\n",
    "train_ids, valid_ids = train_test_split(image_id_list , test_size=test_size, random_state=seed)\n",
    "print(\"Total train data:\",len(train_ids))\n",
    "print(\"Total valid data:\", len(valid_ids))\n",
    "\n",
    "\"\"\" Wandb\"\"\"\n",
    "if args.wandb:\n",
    "    import wandb\n",
    "    wandb.init(project=\"warp_inpaint\", entity='kycj')\n",
    "    args.log_dir = f\"{args.log_dir}/{wandb.run.id}/\"\n",
    "    wandb.config.update(args)\n",
    "    wandb.run.name = f\"{wandb_prefix_name}_{wandb.run.name}\"\n",
    "    \n",
    "    print(vars(args))\n",
    "    \n",
    "\"\"\" result dir setting \"\"\"\n",
    "checkpoint_dir = args.log_dir + \"./ckpts/\"\n",
    "check_create_dir(checkpoint_dir)\n",
    "check_create_dir(checkpoint_dir+\"/best/\")\n",
    "sample_dir = args.log_dir + \"./samples/\"\n",
    "check_create_dir(sample_dir)\n",
    "\n",
    "print(\"Log dir:\",args.log_dir)\n",
    "\n",
    "\n",
    "\"\"\" Data \"\"\"\n",
    "guassian_blur_f = False\n",
    "if args.guassian_blur:\n",
    "    guassian_blur_f = create_guassian_blur_f(args.guassian_ksize,args.guassian_sigma)\n",
    "    print(f\"Guassian_Blur ksize:{args.guassian_ksize}, sigma:{args.guassian_sigma}\")\n",
    "    \n",
    "trainset = WarppedDataset(\n",
    "                 args.data_dir,\n",
    "                 train_ids,\n",
    "                 args.mask_type,\n",
    "                 args.varmap_type,\n",
    "                 args.varmap_threshold,\n",
    "                 guassian_blur_f=guassian_blur_f,\n",
    "                 transform=None, \n",
    "                 return_mesh=True,\n",
    "                 checkExist=False,\n",
    "                 debug=False)\n",
    "print(\"Total train len:\",len(trainset))\n",
    "train_loader = torch.utils.data.DataLoader(trainset, \n",
    "                                          batch_size= args.D_iter* args.batch_size,\n",
    "                                          shuffle=True,\n",
    "                                          drop_last=True, \n",
    "                                          num_workers=16\n",
    "                                          )\n",
    "\n",
    "validset = WarppedDataset(\n",
    "                 args.data_dir,\n",
    "                 valid_ids,\n",
    "                 args.mask_type,\n",
    "                 args.varmap_type,\n",
    "                 args.varmap_threshold,\n",
    "                 guassian_blur_f=guassian_blur_f,\n",
    "                 transform=None, \n",
    "                 return_mesh=True,\n",
    "                 checkExist=False,\n",
    "                 debug=False)\n",
    "print(\"Total valid len:\",len(validset))\n",
    "val_loader = torch.utils.data.DataLoader( \n",
    "                                          validset, \n",
    "                                          batch_size= args.batch_size,\n",
    "                                          shuffle=True,\n",
    "                                          drop_last=True, \n",
    "                                          num_workers=16\n",
    "                                         )\n",
    "val_batch_num = min(len(val_loader),val_batch_num) if val_batch_num> 0 else len(val_loader)  # 要用幾個batch來驗證 ,  len(val_loader) 個batch 的話就是全部的資料\n",
    "# print(\"val_loader\",len(val_loader), \"src:\", args.val_dir)\n",
    "print(f\"val_batch_num : {val_batch_num}/{len(val_loader)}\")\n",
    "print(\"num data per valid:\",val_batch_num* args.batch_size)"
   ]
  },
  {
   "cell_type": "code",
   "execution_count": null,
   "metadata": {},
   "outputs": [],
   "source": [
    "percent_out_area = None\n",
    "for batch_data in train_loader:\n",
    "    origin_imgs, warpped_imgs, origin_meshes, warpped_meshes, masks = batch_data\n",
    "    masks = masks.permute(0,3,1,2)\n",
    "    cond = (masks== 0 )\n",
    "    \n",
    "    percent = (torch.count_nonzero(cond) /  torch.numel(cond)).unsqueeze(0)\n",
    "    if percent_out_area == None:\n",
    "        percent_out_area = percent\n",
    "    else:\n",
    "        percent_out_area = torch.cat((percent_out_area, percent))\n"
   ]
  },
  {
   "cell_type": "code",
   "execution_count": 176,
   "metadata": {},
   "outputs": [
    {
     "name": "stdout",
     "output_type": "stream",
     "text": [
      "torch.Size([2279]) tensor(0.8788)\n"
     ]
    }
   ],
   "source": [
    "print(percent_out_area.shape,percent_out_area.mean())"
   ]
  },
  {
   "cell_type": "code",
   "execution_count": 118,
   "metadata": {},
   "outputs": [
    {
     "data": {
      "image/png": "[encoded data removed]",
      "text/plain": [
       "<PIL.Image.Image image mode=L size=256x256 at 0x7FE52280BDD0>"
      ]
     },
     "execution_count": 118,
     "metadata": {},
     "output_type": "execute_result"
    }
   ],
   "source": [
    "tmp_mask = masks[0].clone()\n",
    "to_pillow_f(tmp_mask)"
   ]
  },
  {
   "cell_type": "code",
   "execution_count": 121,
   "metadata": {},
   "outputs": [
    {
     "name": "stdout",
     "output_type": "stream",
     "text": [
      "tensor([[[0.4311, 0.4311, 0.4311,  ..., 0.4311, 0.4311, 0.4311],\n",
      "         [0.4311, 0.4311, 0.4311,  ..., 0.4311, 0.4311, 0.4311],\n",
      "         [0.4311, 0.4311, 0.4311,  ..., 0.4311, 0.4311, 0.4311],\n",
      "         ...,\n",
      "         [0.4311, 0.4311, 0.4311,  ..., 0.4311, 0.4311, 0.4311],\n",
      "         [0.4311, 0.4311, 0.4311,  ..., 0.4311, 0.4311, 0.4311],\n",
      "         [0.4311, 0.4311, 0.4311,  ..., 0.4311, 0.4311, 0.4311]]],\n",
      "       dtype=torch.float64)\n"
     ]
    }
   ],
   "source": [
    "print(torch.sigmoid(tmp_mask) - 0.3)"
   ]
  },
  {
   "cell_type": "code",
   "execution_count": 153,
   "metadata": {},
   "outputs": [
    {
     "name": "stderr",
     "output_type": "stream",
     "text": [
      "/opt/conda/lib/python3.7/site-packages/ipykernel_launcher.py:1: UserWarning: Implicit dimension choice for softmax has been deprecated. Change the call to include dim=X as an argument.\n",
      "  \"\"\"Entry point for launching an IPython kernel.\n"
     ]
    },
    {
     "data": {
      "text/plain": [
       "tensor([[[1., 1., 1.,  ..., 1., 1., 1.],\n",
       "         [1., 1., 1.,  ..., 1., 1., 1.],\n",
       "         [1., 1., 1.,  ..., 1., 1., 1.],\n",
       "         ...,\n",
       "         [1., 1., 1.,  ..., 1., 1., 1.],\n",
       "         [1., 1., 1.,  ..., 1., 1., 1.],\n",
       "         [1., 1., 1.,  ..., 1., 1., 1.]]], dtype=torch.float64)"
      ]
     },
     "execution_count": 153,
     "metadata": {},
     "output_type": "execute_result"
    }
   ],
   "source": [
    "torch.nn.Softmax()(masks[0].clone()*10)"
   ]
  },
  {
   "cell_type": "code",
   "execution_count": 164,
   "metadata": {},
   "outputs": [
    {
     "data": {
      "image/png": "[encoded data removed]",
      "text/plain": [
       "<PIL.Image.Image image mode=L size=256x256 at 0x7FE52224DA10>"
      ]
     },
     "execution_count": 164,
     "metadata": {},
     "output_type": "execute_result"
    }
   ],
   "source": [
    "tmp_mask = masks[0].clone()\n",
    "# tmp_mask = torch.where(tmp_mask <= 0.8, torch.sigmoid(tmp_mask) - 0.5, torch.ones_like(tmp_mask) )\n",
    "\n",
    "to_pillow_f(tmp_mask)"
   ]
  },
  {
   "cell_type": "code",
   "execution_count": 165,
   "metadata": {},
   "outputs": [
    {
     "data": {
      "text/plain": [
       "tensor(0.9862, dtype=torch.float64)"
      ]
     },
     "execution_count": 165,
     "metadata": {},
     "output_type": "execute_result"
    }
   ],
   "source": [
    "tmp_mask.mean()"
   ]
  },
  {
   "cell_type": "code",
   "execution_count": null,
   "metadata": {},
   "outputs": [],
   "source": []
  }
 ],
 "metadata": {
  "kernelspec": {
   "display_name": "Python 3",
   "language": "python",
   "name": "python3"
  },
  "language_info": {
   "codemirror_mode": {
    "name": "ipython",
    "version": 3
   },
   "file_extension": ".py",
   "mimetype": "text/x-python",
   "name": "python",
   "nbconvert_exporter": "python",
   "pygments_lexer": "ipython3",
   "version": "3.8.5"
  }
 },
 "nbformat": 4,
 "nbformat_minor": 5
}
